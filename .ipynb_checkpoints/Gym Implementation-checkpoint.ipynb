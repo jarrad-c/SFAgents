{
 "cells": [
  {
   "cell_type": "code",
   "execution_count": 1,
   "metadata": {},
   "outputs": [],
   "source": [
    "import gym\n",
    "import atari_py as atari\n",
    "import numpy as np"
   ]
  },
  {
   "cell_type": "code",
   "execution_count": 2,
   "metadata": {},
   "outputs": [],
   "source": [
    "from pytorch.Worker import *\n",
    "from pytorch.Model import *\n",
    "from pytorch.Statistics import *\n",
    "from pytorch.Train import *\n",
    "\n",
    "import torch\n",
    "import torch.optim as opt\n",
    "import torch.nn as nn\n",
    "import torch.multiprocessing as mp\n",
    "from torch.multiprocessing import Queue\n",
    "import logging"
   ]
  },
  {
   "cell_type": "code",
   "execution_count": 3,
   "metadata": {},
   "outputs": [
    {
     "name": "stdout",
     "output_type": "stream",
     "text": [
      "Importing 2 potential games...\n",
      "Importing MortalKombat3-Genesis\n",
      "Importing StreetFighterIISpecialChampionEdition-Genesis\n",
      "Imported 2 games\n"
     ]
    }
   ],
   "source": [
    "!python -m retro.import roms/."
   ]
  },
  {
   "cell_type": "code",
   "execution_count": 4,
   "metadata": {},
   "outputs": [],
   "source": [
    "mp.set_start_method('spawn')\n",
    "\n",
    "roms_path = \"roms/\"\n",
    "frameRatio = 2\n",
    "framesPerStep = 3\n",
    "learning_rate = 5e-5\n",
    "episode = 0  # Change episode to load from presaved model, check saves for saves\n",
    "epoch_size = 15  # How many episodes before training\n",
    "batch_save = 10000000  # How many results before saving the current model and optimiser\n",
    "workerCount = 1  # How many workers to train the model in parallel\n",
    "loadPath = \"pytorch/saves/\""
   ]
  },
  {
   "cell_type": "code",
   "execution_count": 5,
   "metadata": {},
   "outputs": [
    {
     "name": "stderr",
     "output_type": "stream",
     "text": [
      "C:\\Users\\matth\\Anaconda3\\lib\\site-packages\\torch\\nn\\_reduction.py:43: UserWarning: size_average and reduce args will be deprecated, please use reduction='none' instead.\n",
      "  warnings.warn(warning.format(ret))\n"
     ]
    }
   ],
   "source": [
    "workers, model, optim, rewardQueue = setupWorkers(roms_path, epoch_size, learning_rate, frameRatio, framesPerStep, episode, workerCount, loadPath)"
   ]
  },
  {
   "cell_type": "code",
   "execution_count": null,
   "metadata": {
    "scrolled": true
   },
   "outputs": [
    {
     "name": "stdout",
     "output_type": "stream",
     "text": [
      "Saving 100000\n",
      "Saving 200000\n",
      "Saving 300000\n",
      "Saving 400000\n",
      "Saving 500000\n",
      "Saving 600000\n",
      "Saving 700000\n",
      "Saving 800000\n",
      "Saving 900000\n",
      "Saving 1000000\n",
      "Saving 1100000\n",
      "Saving 1200000\n",
      "Saving 1300000\n",
      "Saving 1400000\n",
      "Saving 1500000\n",
      "Saving 1600000\n",
      "Saving 1700000\n",
      "Saving 1800000\n",
      "Saving 1900000\n",
      "Saving 2000000\n",
      "Saving 2100000\n",
      "Saving 2200000\n",
      "Saving 2300000\n",
      "Saving 2400000\n",
      "Saving 2500000\n",
      "Saving 2600000\n",
      "Saving 2700000\n",
      "Saving 2800000\n",
      "Saving 2900000\n",
      "Saving 3000000\n",
      "Saving 3100000\n",
      "Saving 3200000\n",
      "Saving 3300000\n",
      "Saving 3400000\n",
      "Saving 3500000\n",
      "Saving 3600000\n",
      "Saving 3700000\n",
      "Saving 3800000\n",
      "Saving 3900000\n",
      "Saving 4000000\n",
      "Saving 4100000\n",
      "Saving 4200000\n",
      "Saving 4300000\n",
      "Saving 4400000\n",
      "Saving 4500000\n",
      "Saving 4600000\n",
      "Saving 4700000\n",
      "Saving 4800000\n",
      "Saving 4900000\n",
      "Saving 5000000\n",
      "Saving 5100000\n",
      "Saving 5200000\n",
      "Saving 5300000\n",
      "Saving 5400000\n",
      "Saving 5500000\n",
      "Saving 5600000\n",
      "Saving 5700000\n",
      "Saving 5800000\n",
      "Saving 5900000\n",
      "Saving 6000000\n",
      "Saving 6100000\n",
      "Saving 6200000\n",
      "Saving 6300000\n",
      "Saving 6400000\n",
      "Saving 6500000\n",
      "Saving 6600000\n",
      "Saving 6700000\n",
      "Saving 6800000\n",
      "Saving 6900000\n",
      "Saving 7000000\n",
      "Saving 7100000\n",
      "Saving 7200000\n",
      "Saving 7300000\n",
      "Saving 7400000\n",
      "Saving 7500000\n",
      "Saving 7600000\n",
      "Saving 7700000\n",
      "Saving 7800000\n",
      "Saving 7900000\n",
      "Saving 8000000\n",
      "Saving 8100000\n",
      "Saving 8200000\n",
      "Saving 8300000\n",
      "Saving 8400000\n",
      "Saving 8500000\n",
      "Saving 8600000\n",
      "Saving 8700000\n",
      "Saving 8800000\n",
      "Saving 8900000\n",
      "Saving 9000000\n",
      "Saving 9100000\n",
      "Saving 9200000\n",
      "Saving 9300000\n",
      "Saving 9400000\n",
      "Saving 9500000\n",
      "Saving 9600000\n",
      "Saving 9700000\n",
      "Saving 9800000\n",
      "Saving 9900000\n"
     ]
    }
   ],
   "source": [
    "simulate(episode, workers, model, optim, rewardQueue, batch_save, loadPath)"
   ]
  },
  {
   "cell_type": "code",
   "execution_count": null,
   "metadata": {},
   "outputs": [],
   "source": [
    "#episode_to_load = 2200000\n",
    "#evaluate(framesPerStep, loadPath, learning_rate, episode_to_load)"
   ]
  },
  {
   "cell_type": "code",
   "execution_count": null,
   "metadata": {},
   "outputs": [],
   "source": []
  }
 ],
 "metadata": {
  "kernelspec": {
   "display_name": "Python 3",
   "language": "python",
   "name": "python3"
  },
  "language_info": {
   "codemirror_mode": {
    "name": "ipython",
    "version": 3
   },
   "file_extension": ".py",
   "mimetype": "text/x-python",
   "name": "python",
   "nbconvert_exporter": "python",
   "pygments_lexer": "ipython3",
   "version": "3.7.3"
  }
 },
 "nbformat": 4,
 "nbformat_minor": 2
}
