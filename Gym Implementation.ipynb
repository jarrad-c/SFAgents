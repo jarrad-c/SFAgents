{
 "cells": [
  {
   "cell_type": "code",
   "execution_count": 1,
   "metadata": {},
   "outputs": [],
   "source": [
    "import gym\n",
    "import atari_py as atari\n",
    "import numpy as np"
   ]
  },
  {
   "cell_type": "code",
   "execution_count": 2,
   "metadata": {},
   "outputs": [],
   "source": [
    "from pytorch.Worker import *\n",
    "from pytorch.Model import *\n",
    "from pytorch.Statistics import *\n",
    "from pytorch.Train import *\n",
    "\n",
    "import torch\n",
    "import torch.optim as opt\n",
    "import torch.nn as nn\n",
    "import torch.multiprocessing as mp\n",
    "from torch.multiprocessing import Queue\n",
    "import logging"
   ]
  },
  {
   "cell_type": "code",
   "execution_count": 3,
   "metadata": {},
   "outputs": [
    {
     "name": "stdout",
     "output_type": "stream",
     "text": [
      "Importing 2 potential games...\n",
      "Importing MortalKombat3-Genesis\n",
      "Importing StreetFighterIISpecialChampionEdition-Genesis\n",
      "Imported 2 games\n"
     ]
    }
   ],
   "source": [
    "!python -m retro.import roms/."
   ]
  },
  {
   "cell_type": "code",
   "execution_count": 4,
   "metadata": {},
   "outputs": [
    {
     "ename": "NameError",
     "evalue": "name 'start_episode' is not defined",
     "output_type": "error",
     "traceback": [
      "\u001b[1;31m---------------------------------------------------------------------------\u001b[0m",
      "\u001b[1;31mNameError\u001b[0m                                 Traceback (most recent call last)",
      "\u001b[1;32m<ipython-input-4-007b24ab1ab9>\u001b[0m in \u001b[0;36m<module>\u001b[1;34m\u001b[0m\n\u001b[0;32m     12\u001b[0m \u001b[0mloadPath\u001b[0m \u001b[1;33m=\u001b[0m \u001b[1;34m\"saves/\"\u001b[0m\u001b[1;33m\u001b[0m\u001b[1;33m\u001b[0m\u001b[0m\n\u001b[0;32m     13\u001b[0m \u001b[1;33m\u001b[0m\u001b[0m\n\u001b[1;32m---> 14\u001b[1;33m \u001b[0mworkers\u001b[0m\u001b[1;33m,\u001b[0m \u001b[0mmodel\u001b[0m\u001b[1;33m,\u001b[0m \u001b[0moptim\u001b[0m\u001b[1;33m,\u001b[0m \u001b[0mrewardQueue\u001b[0m \u001b[1;33m=\u001b[0m \u001b[0msetupWorkers\u001b[0m\u001b[1;33m(\u001b[0m\u001b[0mroms_path\u001b[0m\u001b[1;33m,\u001b[0m \u001b[0mepoch_size\u001b[0m\u001b[1;33m,\u001b[0m \u001b[0mlearning_rate\u001b[0m\u001b[1;33m,\u001b[0m \u001b[0mframeRatio\u001b[0m\u001b[1;33m,\u001b[0m \u001b[0mframesPerStep\u001b[0m\u001b[1;33m,\u001b[0m \u001b[0mstart_episode\u001b[0m\u001b[1;33m,\u001b[0m \u001b[0mworkerCount\u001b[0m\u001b[1;33m,\u001b[0m \u001b[0mloadPath\u001b[0m\u001b[1;33m)\u001b[0m\u001b[1;33m\u001b[0m\u001b[1;33m\u001b[0m\u001b[0m\n\u001b[0m",
      "\u001b[1;31mNameError\u001b[0m: name 'start_episode' is not defined"
     ]
    }
   ],
   "source": [
    "mp.set_start_method('spawn')\n",
    "\n",
    "roms_path = \"roms/\"\n",
    "frameRatio = 2\n",
    "framesPerStep = 3\n",
    "learning_rate = 5e-5\n",
    "episode = 0  # Change episode to load from presaved model, check saves for saves\n",
    "epoch_size = 1  # How many episodes before training\n",
    "batch_save = 10  # How many results before saving the current model and optimiser\n",
    "workerCount = 1  # How many workers to train the model in parallel\n",
    "difficulty = 3  # Story mode difficulty\n",
    "loadPath = \"saves/\"\n",
    "\n",
    "workers, model, optim, rewardQueue = setupWorkers(roms_path, epoch_size, learning_rate, frameRatio, framesPerStep, episode, workerCount, loadPath)"
   ]
  },
  {
   "cell_type": "code",
   "execution_count": null,
   "metadata": {},
   "outputs": [],
   "source": [
    "simulate(episode, workers, model, optim, rewardQueue, batch_save, loadPath)"
   ]
  },
  {
   "cell_type": "code",
   "execution_count": null,
   "metadata": {},
   "outputs": [],
   "source": []
  }
 ],
 "metadata": {
  "kernelspec": {
   "display_name": "Python 3",
   "language": "python",
   "name": "python3"
  },
  "language_info": {
   "codemirror_mode": {
    "name": "ipython",
    "version": 3
   },
   "file_extension": ".py",
   "mimetype": "text/x-python",
   "name": "python",
   "nbconvert_exporter": "python",
   "pygments_lexer": "ipython3",
   "version": "3.7.3"
  }
 },
 "nbformat": 4,
 "nbformat_minor": 2
}
