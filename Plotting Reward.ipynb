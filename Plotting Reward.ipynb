{
 "cells": [
  {
   "cell_type": "code",
   "execution_count": 15,
   "metadata": {},
   "outputs": [],
   "source": [
    "import matplotlib.pyplot as plt\n",
    "import pandas as pd\n",
    "import numpy as np\n",
    "\n",
    "%matplotlib inline"
   ]
  },
  {
   "cell_type": "code",
   "execution_count": 7,
   "metadata": {},
   "outputs": [],
   "source": [
    "df = pd.read_csv('pytorch/logs/pytorch_stats.log', sep=r'\\s+', header=None)"
   ]
  },
  {
   "cell_type": "code",
   "execution_count": 8,
   "metadata": {},
   "outputs": [
    {
     "data": {
      "text/html": [
       "<div>\n",
       "<style scoped>\n",
       "    .dataframe tbody tr th:only-of-type {\n",
       "        vertical-align: middle;\n",
       "    }\n",
       "\n",
       "    .dataframe tbody tr th {\n",
       "        vertical-align: top;\n",
       "    }\n",
       "\n",
       "    .dataframe thead th {\n",
       "        text-align: right;\n",
       "    }\n",
       "</style>\n",
       "<table border=\"1\" class=\"dataframe\">\n",
       "  <thead>\n",
       "    <tr style=\"text-align: right;\">\n",
       "      <th></th>\n",
       "      <th>0</th>\n",
       "      <th>1</th>\n",
       "      <th>2</th>\n",
       "      <th>3</th>\n",
       "      <th>4</th>\n",
       "      <th>5</th>\n",
       "      <th>6</th>\n",
       "      <th>7</th>\n",
       "      <th>8</th>\n",
       "      <th>9</th>\n",
       "    </tr>\n",
       "  </thead>\n",
       "  <tbody>\n",
       "    <tr>\n",
       "      <th>0</th>\n",
       "      <td>INFO:root:episode</td>\n",
       "      <td>0</td>\n",
       "      <td>complete</td>\n",
       "      <td>-</td>\n",
       "      <td>reward(new:</td>\n",
       "      <td>228,</td>\n",
       "      <td>avg:</td>\n",
       "      <td>228,</td>\n",
       "      <td>best:</td>\n",
       "      <td>228)</td>\n",
       "    </tr>\n",
       "    <tr>\n",
       "      <th>1</th>\n",
       "      <td>INFO:root:episode</td>\n",
       "      <td>0</td>\n",
       "      <td>complete</td>\n",
       "      <td>-</td>\n",
       "      <td>reward(new:</td>\n",
       "      <td>286,</td>\n",
       "      <td>avg:</td>\n",
       "      <td>229,</td>\n",
       "      <td>best:</td>\n",
       "      <td>286)</td>\n",
       "    </tr>\n",
       "    <tr>\n",
       "      <th>2</th>\n",
       "      <td>INFO:root:episode</td>\n",
       "      <td>0</td>\n",
       "      <td>complete</td>\n",
       "      <td>-</td>\n",
       "      <td>reward(new:</td>\n",
       "      <td>385,</td>\n",
       "      <td>avg:</td>\n",
       "      <td>230,</td>\n",
       "      <td>best:</td>\n",
       "      <td>385)</td>\n",
       "    </tr>\n",
       "    <tr>\n",
       "      <th>3</th>\n",
       "      <td>INFO:root:episode</td>\n",
       "      <td>0</td>\n",
       "      <td>complete</td>\n",
       "      <td>-</td>\n",
       "      <td>reward(new:</td>\n",
       "      <td>366,</td>\n",
       "      <td>avg:</td>\n",
       "      <td>232,</td>\n",
       "      <td>best:</td>\n",
       "      <td>385)</td>\n",
       "    </tr>\n",
       "    <tr>\n",
       "      <th>4</th>\n",
       "      <td>INFO:root:episode</td>\n",
       "      <td>0</td>\n",
       "      <td>complete</td>\n",
       "      <td>-</td>\n",
       "      <td>reward(new:</td>\n",
       "      <td>206,</td>\n",
       "      <td>avg:</td>\n",
       "      <td>231,</td>\n",
       "      <td>best:</td>\n",
       "      <td>385)</td>\n",
       "    </tr>\n",
       "  </tbody>\n",
       "</table>\n",
       "</div>"
      ],
      "text/plain": [
       "                   0  1         2  3            4     5     6     7      8  \\\n",
       "0  INFO:root:episode  0  complete  -  reward(new:  228,  avg:  228,  best:   \n",
       "1  INFO:root:episode  0  complete  -  reward(new:  286,  avg:  229,  best:   \n",
       "2  INFO:root:episode  0  complete  -  reward(new:  385,  avg:  230,  best:   \n",
       "3  INFO:root:episode  0  complete  -  reward(new:  366,  avg:  232,  best:   \n",
       "4  INFO:root:episode  0  complete  -  reward(new:  206,  avg:  231,  best:   \n",
       "\n",
       "      9  \n",
       "0  228)  \n",
       "1  286)  \n",
       "2  385)  \n",
       "3  385)  \n",
       "4  385)  "
      ]
     },
     "execution_count": 8,
     "metadata": {},
     "output_type": "execute_result"
    }
   ],
   "source": [
    "df.head()"
   ]
  },
  {
   "cell_type": "code",
   "execution_count": 37,
   "metadata": {},
   "outputs": [
    {
     "data": {
      "image/png": "[encoded data removed]",
      "text/plain": [
       "<Figure size 432x288 with 1 Axes>"
      ]
     },
     "metadata": {
      "needs_background": "light"
     },
     "output_type": "display_data"
    }
   ],
   "source": [
    "plt.plot(df[7])\n",
    "plt.yticks(np.arange(0, 500, 100))\n",
    "plt.ylabel('Reward')\n",
    "plt.xlabel('Episode')\n",
    "plt.title('Average Reward')\n",
    "plt.savefig('fig/avg_reward.png')"
   ]
  },
  {
   "cell_type": "code",
   "execution_count": 38,
   "metadata": {},
   "outputs": [
    {
     "data": {
      "image/png": "[encoded data removed]",
      "text/plain": [
       "<Figure size 432x288 with 1 Axes>"
      ]
     },
     "metadata": {
      "needs_background": "light"
     },
     "output_type": "display_data"
    }
   ],
   "source": [
    "plt.plot(df[5])\n",
    "plt.yticks(np.arange(0, 1000, 100))\n",
    "plt.ylabel('Reward')\n",
    "plt.xlabel('Episode')\n",
    "plt.title('Instantaneous Reward')\n",
    "plt.savefig('fig/inst_reward.png')"
   ]
  }
 ],
 "metadata": {
  "kernelspec": {
   "display_name": "Python 3",
   "language": "python",
   "name": "python3"
  },
  "language_info": {
   "codemirror_mode": {
    "name": "ipython",
    "version": 3
   },
   "file_extension": ".py",
   "mimetype": "text/x-python",
   "name": "python",
   "nbconvert_exporter": "python",
   "pygments_lexer": "ipython3",
   "version": "3.7.3"
  }
 },
 "nbformat": 4,
 "nbformat_minor": 2
}
